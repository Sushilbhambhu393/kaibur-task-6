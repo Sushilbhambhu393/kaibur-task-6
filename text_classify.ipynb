{
 "cells": [
  {
   "cell_type": "code",
   "execution_count": 65,
   "metadata": {},
   "outputs": [],
   "source": [
    "from sklearn.feature_extraction.text import TfidfVectorizer\n",
    "from sklearn.model_selection import train_test_split, cross_val_score\n",
    "from sklearn.preprocessing import LabelEncoder\n",
    "from sklearn.ensemble import RandomForestClassifier\n",
    "import pandas as pd\n",
    "from sklearn.metrics import confusion_matrix"
   ]
  },
  {
   "cell_type": "code",
   "execution_count": 66,
   "metadata": {},
   "outputs": [
    {
     "name": "stderr",
     "output_type": "stream",
     "text": [
      "C:\\Users\\vishn\\AppData\\Local\\Temp\\ipykernel_6584\\3037904487.py:1: DtypeWarning: Columns (16) have mixed types. Specify dtype option on import or set low_memory=False.\n",
      "  cdata=pd.read_csv('complaints.csv')\n"
     ]
    },
    {
     "data": {
      "text/html": [
       "<div>\n",
       "<style scoped>\n",
       "    .dataframe tbody tr th:only-of-type {\n",
       "        vertical-align: middle;\n",
       "    }\n",
       "\n",
       "    .dataframe tbody tr th {\n",
       "        vertical-align: top;\n",
       "    }\n",
       "\n",
       "    .dataframe thead th {\n",
       "        text-align: right;\n",
       "    }\n",
       "</style>\n",
       "<table border=\"1\" class=\"dataframe\">\n",
       "  <thead>\n",
       "    <tr style=\"text-align: right;\">\n",
       "      <th></th>\n",
       "      <th>Date received</th>\n",
       "      <th>Product</th>\n",
       "      <th>Sub-product</th>\n",
       "      <th>Issue</th>\n",
       "      <th>Sub-issue</th>\n",
       "      <th>Consumer complaint narrative</th>\n",
       "      <th>Company public response</th>\n",
       "      <th>Company</th>\n",
       "      <th>State</th>\n",
       "      <th>ZIP code</th>\n",
       "      <th>Tags</th>\n",
       "      <th>Consumer consent provided?</th>\n",
       "      <th>Submitted via</th>\n",
       "      <th>Date sent to company</th>\n",
       "      <th>Company response to consumer</th>\n",
       "      <th>Timely response?</th>\n",
       "      <th>Consumer disputed?</th>\n",
       "      <th>Complaint ID</th>\n",
       "    </tr>\n",
       "  </thead>\n",
       "  <tbody>\n",
       "    <tr>\n",
       "      <th>0</th>\n",
       "      <td>2023-07-22</td>\n",
       "      <td>Credit reporting, credit repair services, or o...</td>\n",
       "      <td>Credit reporting</td>\n",
       "      <td>Incorrect information on your report</td>\n",
       "      <td>Information belongs to someone else</td>\n",
       "      <td>NaN</td>\n",
       "      <td>NaN</td>\n",
       "      <td>Nelnet, Inc.</td>\n",
       "      <td>IL</td>\n",
       "      <td>61103</td>\n",
       "      <td>NaN</td>\n",
       "      <td>NaN</td>\n",
       "      <td>Web</td>\n",
       "      <td>2023-08-23</td>\n",
       "      <td>Closed with explanation</td>\n",
       "      <td>Yes</td>\n",
       "      <td>NaN</td>\n",
       "      <td>7284490</td>\n",
       "    </tr>\n",
       "    <tr>\n",
       "      <th>1</th>\n",
       "      <td>2023-08-25</td>\n",
       "      <td>Credit reporting or other personal consumer re...</td>\n",
       "      <td>Credit reporting</td>\n",
       "      <td>Incorrect information on your report</td>\n",
       "      <td>Information belongs to someone else</td>\n",
       "      <td>NaN</td>\n",
       "      <td>NaN</td>\n",
       "      <td>EQUIFAX, INC.</td>\n",
       "      <td>FL</td>\n",
       "      <td>33444</td>\n",
       "      <td>NaN</td>\n",
       "      <td>NaN</td>\n",
       "      <td>Web</td>\n",
       "      <td>2023-08-25</td>\n",
       "      <td>Closed with non-monetary relief</td>\n",
       "      <td>Yes</td>\n",
       "      <td>NaN</td>\n",
       "      <td>7588176</td>\n",
       "    </tr>\n",
       "    <tr>\n",
       "      <th>2</th>\n",
       "      <td>2023-08-24</td>\n",
       "      <td>Credit reporting, credit repair services, or o...</td>\n",
       "      <td>Credit reporting</td>\n",
       "      <td>Problem with a credit reporting company's inve...</td>\n",
       "      <td>Was not notified of investigation status or re...</td>\n",
       "      <td>NaN</td>\n",
       "      <td>NaN</td>\n",
       "      <td>Experian Information Solutions Inc.</td>\n",
       "      <td>NJ</td>\n",
       "      <td>07024</td>\n",
       "      <td>NaN</td>\n",
       "      <td>Other</td>\n",
       "      <td>Web</td>\n",
       "      <td>2023-08-24</td>\n",
       "      <td>In progress</td>\n",
       "      <td>Yes</td>\n",
       "      <td>NaN</td>\n",
       "      <td>7452639</td>\n",
       "    </tr>\n",
       "    <tr>\n",
       "      <th>3</th>\n",
       "      <td>2023-08-25</td>\n",
       "      <td>Credit reporting or other personal consumer re...</td>\n",
       "      <td>Credit reporting</td>\n",
       "      <td>Improper use of your report</td>\n",
       "      <td>Reporting company used your report improperly</td>\n",
       "      <td>NaN</td>\n",
       "      <td>NaN</td>\n",
       "      <td>SANTANDER HOLDINGS USA, INC.</td>\n",
       "      <td>FL</td>\n",
       "      <td>33972</td>\n",
       "      <td>NaN</td>\n",
       "      <td>NaN</td>\n",
       "      <td>Web</td>\n",
       "      <td>2023-08-25</td>\n",
       "      <td>Closed with explanation</td>\n",
       "      <td>Yes</td>\n",
       "      <td>NaN</td>\n",
       "      <td>7512160</td>\n",
       "    </tr>\n",
       "    <tr>\n",
       "      <th>4</th>\n",
       "      <td>2023-08-23</td>\n",
       "      <td>Credit reporting, credit repair services, or o...</td>\n",
       "      <td>Other personal consumer report</td>\n",
       "      <td>Incorrect information on your report</td>\n",
       "      <td>Information that should be on the report is mi...</td>\n",
       "      <td>NaN</td>\n",
       "      <td>NaN</td>\n",
       "      <td>LEXISNEXIS</td>\n",
       "      <td>FL</td>\n",
       "      <td>32258</td>\n",
       "      <td>NaN</td>\n",
       "      <td>Other</td>\n",
       "      <td>Web</td>\n",
       "      <td>2023-08-23</td>\n",
       "      <td>In progress</td>\n",
       "      <td>Yes</td>\n",
       "      <td>NaN</td>\n",
       "      <td>7442688</td>\n",
       "    </tr>\n",
       "  </tbody>\n",
       "</table>\n",
       "</div>"
      ],
      "text/plain": [
       "  Date received                                            Product  \\\n",
       "0    2023-07-22  Credit reporting, credit repair services, or o...   \n",
       "1    2023-08-25  Credit reporting or other personal consumer re...   \n",
       "2    2023-08-24  Credit reporting, credit repair services, or o...   \n",
       "3    2023-08-25  Credit reporting or other personal consumer re...   \n",
       "4    2023-08-23  Credit reporting, credit repair services, or o...   \n",
       "\n",
       "                      Sub-product  \\\n",
       "0                Credit reporting   \n",
       "1                Credit reporting   \n",
       "2                Credit reporting   \n",
       "3                Credit reporting   \n",
       "4  Other personal consumer report   \n",
       "\n",
       "                                               Issue  \\\n",
       "0               Incorrect information on your report   \n",
       "1               Incorrect information on your report   \n",
       "2  Problem with a credit reporting company's inve...   \n",
       "3                        Improper use of your report   \n",
       "4               Incorrect information on your report   \n",
       "\n",
       "                                           Sub-issue  \\\n",
       "0                Information belongs to someone else   \n",
       "1                Information belongs to someone else   \n",
       "2  Was not notified of investigation status or re...   \n",
       "3      Reporting company used your report improperly   \n",
       "4  Information that should be on the report is mi...   \n",
       "\n",
       "  Consumer complaint narrative Company public response  \\\n",
       "0                          NaN                     NaN   \n",
       "1                          NaN                     NaN   \n",
       "2                          NaN                     NaN   \n",
       "3                          NaN                     NaN   \n",
       "4                          NaN                     NaN   \n",
       "\n",
       "                               Company State ZIP code Tags  \\\n",
       "0                         Nelnet, Inc.    IL    61103  NaN   \n",
       "1                        EQUIFAX, INC.    FL    33444  NaN   \n",
       "2  Experian Information Solutions Inc.    NJ    07024  NaN   \n",
       "3         SANTANDER HOLDINGS USA, INC.    FL    33972  NaN   \n",
       "4                           LEXISNEXIS    FL    32258  NaN   \n",
       "\n",
       "  Consumer consent provided? Submitted via Date sent to company  \\\n",
       "0                        NaN           Web           2023-08-23   \n",
       "1                        NaN           Web           2023-08-25   \n",
       "2                      Other           Web           2023-08-24   \n",
       "3                        NaN           Web           2023-08-25   \n",
       "4                      Other           Web           2023-08-23   \n",
       "\n",
       "      Company response to consumer Timely response? Consumer disputed?  \\\n",
       "0          Closed with explanation              Yes                NaN   \n",
       "1  Closed with non-monetary relief              Yes                NaN   \n",
       "2                      In progress              Yes                NaN   \n",
       "3          Closed with explanation              Yes                NaN   \n",
       "4                      In progress              Yes                NaN   \n",
       "\n",
       "   Complaint ID  \n",
       "0       7284490  \n",
       "1       7588176  \n",
       "2       7452639  \n",
       "3       7512160  \n",
       "4       7442688  "
      ]
     },
     "execution_count": 66,
     "metadata": {},
     "output_type": "execute_result"
    }
   ],
   "source": [
    "cdata=pd.read_csv('complaints.csv')\n",
    "cdata.head()"
   ]
  },
  {
   "cell_type": "code",
   "execution_count": 67,
   "metadata": {},
   "outputs": [
    {
     "data": {
      "text/plain": [
       "(4101381, 18)"
      ]
     },
     "execution_count": 67,
     "metadata": {},
     "output_type": "execute_result"
    }
   ],
   "source": [
    "cdata.shape"
   ]
  },
  {
   "cell_type": "code",
   "execution_count": 68,
   "metadata": {},
   "outputs": [
    {
     "data": {
      "text/plain": [
       "21"
      ]
     },
     "execution_count": 68,
     "metadata": {},
     "output_type": "execute_result"
    }
   ],
   "source": [
    "cdata['Product'].nunique()"
   ]
  },
  {
   "cell_type": "code",
   "execution_count": 69,
   "metadata": {},
   "outputs": [
    {
     "name": "stdout",
     "output_type": "stream",
     "text": [
      "Shape of data (4101381, 18)\n"
     ]
    }
   ],
   "source": [
    "cd=cdata[['Consumer complaint narrative','Product']]\n",
    "print('Shape of data',cdata.shape)"
   ]
  },
  {
   "cell_type": "code",
   "execution_count": 70,
   "metadata": {},
   "outputs": [
    {
     "name": "stderr",
     "output_type": "stream",
     "text": [
      "C:\\Users\\vishn\\AppData\\Local\\Temp\\ipykernel_6584\\3974759201.py:1: SettingWithCopyWarning: \n",
      "A value is trying to be set on a copy of a slice from a DataFrame.\n",
      "Try using .loc[row_indexer,col_indexer] = value instead\n",
      "\n",
      "See the caveats in the documentation: https://pandas.pydata.org/pandas-docs/stable/user_guide/indexing.html#returning-a-view-versus-a-copy\n",
      "  cd.replace({'Product':\n"
     ]
    },
    {
     "name": "stdout",
     "output_type": "stream",
     "text": [
      "                                    u\n",
      "0  Credit reporting, repair, or other\n",
      "1                     Debt collection\n",
      "2                       Consumer Loan\n",
      "3                            Mortgage\n"
     ]
    }
   ],
   "source": [
    "cd.replace({'Product': \n",
    "             {'Credit reporting, credit repair services, or other personal consumer reports':'Credit reporting, repair, or other', \n",
    "              'Credit reporting':'Credit reporting, repair, or other',\n",
    "              'Credit reporting or other personal consumer reports':'Credit reporting, repair, or other',\n",
    "             'Payday loan': 'Payday loan, title loan, or personal loan',\n",
    "              'Credit card': 'Credit card or prepaid card',\n",
    "              'Prepaid card':'Credit card or prepaid card',\n",
    "              'Payday loan, title loan, personal loan, or advance loan':'Payday loan, title loan, or personal loan',\n",
    "             'Money transfers': 'Money transfer, virtual currency, or money service',\n",
    "             'Virtual currency': 'Money transfer, virtual currency, or money service'}}, \n",
    "            inplace= True)\n",
    "\n",
    "\n",
    "\n",
    "cd = cd[(cd['Product'] == 'Credit reporting, repair, or other') | \\\n",
    "                             (cd['Product'] == 'Debt collection') | \\\n",
    "                             (cd['Product'] == 'Mortgage') | \\\n",
    "                             (cd['Product'] == 'Consumer Loan')\n",
    "                            ]\n",
    "\n",
    "unique_values = ['Credit reporting, repair, or other','Debt collection','Consumer Loan','Mortgage']\n",
    "#data['Product'].unique() \n",
    "unique_df = pd.DataFrame({'u': unique_values})\n",
    "print(unique_df)"
   ]
  },
  {
   "cell_type": "code",
   "execution_count": 71,
   "metadata": {},
   "outputs": [
    {
     "name": "stdout",
     "output_type": "stream",
     "text": [
      "Before dropping the nulls\n"
     ]
    },
    {
     "data": {
      "text/plain": [
       "'Null count'"
      ]
     },
     "metadata": {},
     "output_type": "display_data"
    },
    {
     "data": {
      "text/plain": [
       "Consumer complaint narrative    2150867\n",
       "Product                               0\n",
       "dtype: int64"
      ]
     },
     "metadata": {},
     "output_type": "display_data"
    },
    {
     "name": "stdout",
     "output_type": "stream",
     "text": [
      "Total rows of data 3302890\n",
      "\n",
      "After dropping the nulls\n"
     ]
    },
    {
     "data": {
      "text/plain": [
       "'Null count'"
      ]
     },
     "metadata": {},
     "output_type": "display_data"
    },
    {
     "data": {
      "text/plain": [
       "Consumer complaint narrative    0\n",
       "Product                         0\n",
       "dtype: int64"
      ]
     },
     "metadata": {},
     "output_type": "display_data"
    },
    {
     "name": "stdout",
     "output_type": "stream",
     "text": [
      "Total rows of data 1152023\n"
     ]
    }
   ],
   "source": [
    "print('Before dropping the nulls')\n",
    "display('Null count', cd.isna().sum())\n",
    "print('Total rows of data', len(cd))\n",
    "cd.dropna(inplace=True)\n",
    "print( )\n",
    "print('After dropping the nulls')\n",
    "display('Null count', cd.isna().sum())\n",
    "print('Total rows of data', len(cd))"
   ]
  },
  {
   "cell_type": "code",
   "execution_count": 72,
   "metadata": {},
   "outputs": [
    {
     "data": {
      "text/html": [
       "<div>\n",
       "<style scoped>\n",
       "    .dataframe tbody tr th:only-of-type {\n",
       "        vertical-align: middle;\n",
       "    }\n",
       "\n",
       "    .dataframe tbody tr th {\n",
       "        vertical-align: top;\n",
       "    }\n",
       "\n",
       "    .dataframe thead th {\n",
       "        text-align: right;\n",
       "    }\n",
       "</style>\n",
       "<table border=\"1\" class=\"dataframe\">\n",
       "  <thead>\n",
       "    <tr style=\"text-align: right;\">\n",
       "      <th></th>\n",
       "      <th>Consumer complaint narrative</th>\n",
       "      <th>Product</th>\n",
       "    </tr>\n",
       "  </thead>\n",
       "  <tbody>\n",
       "    <tr>\n",
       "      <th>792511</th>\n",
       "      <td>Florida XXXX XXXX imposes nonrecurring taxes o...</td>\n",
       "      <td>Debt collection</td>\n",
       "    </tr>\n",
       "    <tr>\n",
       "      <th>1462903</th>\n",
       "      <td>capital one is reporting to XXXX, XXXX, and XX...</td>\n",
       "      <td>Credit reporting, repair, or other</td>\n",
       "    </tr>\n",
       "    <tr>\n",
       "      <th>1456398</th>\n",
       "      <td>The creditor is checking my credit reports wit...</td>\n",
       "      <td>Consumer Loan</td>\n",
       "    </tr>\n",
       "    <tr>\n",
       "      <th>3738583</th>\n",
       "      <td>This is my NUMEROUS request that I have been a...</td>\n",
       "      <td>Credit reporting, repair, or other</td>\n",
       "    </tr>\n",
       "    <tr>\n",
       "      <th>2923345</th>\n",
       "      <td>i send the letter on XX/XX/2019 to experian ab...</td>\n",
       "      <td>Credit reporting, repair, or other</td>\n",
       "    </tr>\n",
       "  </tbody>\n",
       "</table>\n",
       "</div>"
      ],
      "text/plain": [
       "                              Consumer complaint narrative  \\\n",
       "792511   Florida XXXX XXXX imposes nonrecurring taxes o...   \n",
       "1462903  capital one is reporting to XXXX, XXXX, and XX...   \n",
       "1456398  The creditor is checking my credit reports wit...   \n",
       "3738583  This is my NUMEROUS request that I have been a...   \n",
       "2923345  i send the letter on XX/XX/2019 to experian ab...   \n",
       "\n",
       "                                    Product  \n",
       "792511                      Debt collection  \n",
       "1462903  Credit reporting, repair, or other  \n",
       "1456398                       Consumer Loan  \n",
       "3738583  Credit reporting, repair, or other  \n",
       "2923345  Credit reporting, repair, or other  "
      ]
     },
     "metadata": {},
     "output_type": "display_data"
    },
    {
     "data": {
      "text/html": [
       "<div>\n",
       "<style scoped>\n",
       "    .dataframe tbody tr th:only-of-type {\n",
       "        vertical-align: middle;\n",
       "    }\n",
       "\n",
       "    .dataframe tbody tr th {\n",
       "        vertical-align: top;\n",
       "    }\n",
       "\n",
       "    .dataframe thead th {\n",
       "        text-align: right;\n",
       "    }\n",
       "</style>\n",
       "<table border=\"1\" class=\"dataframe\">\n",
       "  <thead>\n",
       "    <tr style=\"text-align: right;\">\n",
       "      <th></th>\n",
       "      <th>Consumer complaint narrative</th>\n",
       "      <th>Product</th>\n",
       "    </tr>\n",
       "  </thead>\n",
       "  <tbody>\n",
       "    <tr>\n",
       "      <th>1837610</th>\n",
       "      <td>These are not my accounts on my Transunion cre...</td>\n",
       "      <td>Credit reporting, repair, or other</td>\n",
       "    </tr>\n",
       "    <tr>\n",
       "      <th>621247</th>\n",
       "      <td>On XX/XX/XXXX and XX/XX/XXXX my brother 's ex-...</td>\n",
       "      <td>Debt collection</td>\n",
       "    </tr>\n",
       "    <tr>\n",
       "      <th>3293808</th>\n",
       "      <td>I recently reviewed a copy of my credit report...</td>\n",
       "      <td>Credit reporting, repair, or other</td>\n",
       "    </tr>\n",
       "    <tr>\n",
       "      <th>1011631</th>\n",
       "      <td>I have contacted Experian and have not had thi...</td>\n",
       "      <td>Credit reporting, repair, or other</td>\n",
       "    </tr>\n",
       "    <tr>\n",
       "      <th>3040837</th>\n",
       "      <td>Bank of America granted a home equity loan on ...</td>\n",
       "      <td>Mortgage</td>\n",
       "    </tr>\n",
       "  </tbody>\n",
       "</table>\n",
       "</div>"
      ],
      "text/plain": [
       "                              Consumer complaint narrative  \\\n",
       "1837610  These are not my accounts on my Transunion cre...   \n",
       "621247   On XX/XX/XXXX and XX/XX/XXXX my brother 's ex-...   \n",
       "3293808  I recently reviewed a copy of my credit report...   \n",
       "1011631  I have contacted Experian and have not had thi...   \n",
       "3040837  Bank of America granted a home equity loan on ...   \n",
       "\n",
       "                                    Product  \n",
       "1837610  Credit reporting, repair, or other  \n",
       "621247                      Debt collection  \n",
       "3293808  Credit reporting, repair, or other  \n",
       "1011631  Credit reporting, repair, or other  \n",
       "3040837                            Mortgage  "
      ]
     },
     "metadata": {},
     "output_type": "display_data"
    }
   ],
   "source": [
    "# cd=cd.head(1500).reset_index(drop=True)\n",
    "cd=cd.sample(1500,random_state=1).copy()\n",
    "display(cd.head())\n",
    "display(cd.tail())"
   ]
  },
  {
   "cell_type": "code",
   "execution_count": 73,
   "metadata": {},
   "outputs": [
    {
     "data": {
      "text/plain": [
       "(1500, 2)"
      ]
     },
     "execution_count": 73,
     "metadata": {},
     "output_type": "execute_result"
    }
   ],
   "source": [
    "cd.shape"
   ]
  },
  {
   "cell_type": "code",
   "execution_count": 74,
   "metadata": {},
   "outputs": [
    {
     "data": {
      "text/plain": [
       "array(['Debt collection', 'Credit reporting, repair, or other',\n",
       "       'Consumer Loan', 'Mortgage'], dtype=object)"
      ]
     },
     "execution_count": 74,
     "metadata": {},
     "output_type": "execute_result"
    }
   ],
   "source": [
    "cd['Product'].unique()"
   ]
  },
  {
   "cell_type": "code",
   "execution_count": 75,
   "metadata": {},
   "outputs": [
    {
     "data": {
      "text/plain": [
       "Credit reporting, repair, or other    1045\n",
       "Debt collection                        291\n",
       "Mortgage                               149\n",
       "Consumer Loan                           15\n",
       "Name: Product, dtype: int64"
      ]
     },
     "execution_count": 75,
     "metadata": {},
     "output_type": "execute_result"
    }
   ],
   "source": [
    "cd['Product'].value_counts()"
   ]
  },
  {
   "cell_type": "code",
   "execution_count": 76,
   "metadata": {},
   "outputs": [
    {
     "name": "stdout",
     "output_type": "stream",
     "text": [
      "Training data: 1125\n",
      "Testing data: 375\n"
     ]
    }
   ],
   "source": [
    "X_train, X_test, y_train, y_test = train_test_split(\n",
    "                                            cd['Consumer complaint narrative'], cd['Product'],\n",
    "                                            test_size=0.25, random_state=0, stratify=cd['Product'])\n",
    "print(f'Training data: {len(X_train)}')\n",
    "print(f'Testing data: {len(X_test)}')\n"
   ]
  },
  {
   "cell_type": "code",
   "execution_count": 77,
   "metadata": {},
   "outputs": [
    {
     "data": {
      "text/plain": [
       "Credit reporting, repair, or other    784\n",
       "Debt collection                       218\n",
       "Mortgage                              112\n",
       "Consumer Loan                          11\n",
       "Name: Product, dtype: int64"
      ]
     },
     "metadata": {},
     "output_type": "display_data"
    }
   ],
   "source": [
    "display(y_train.value_counts())"
   ]
  },
  {
   "cell_type": "code",
   "execution_count": 78,
   "metadata": {},
   "outputs": [
    {
     "data": {
      "text/plain": [
       "My name is XXXX XXXX this complaint is not made in error neither is it being made by a third party.I declare under penalty of perjury I am alleging that a person or company- without my authorization- from unauthorized use of my social security number and card used my personal identifying information to apply for goods, services, or money ; and, was successful in creating some accounts. I have no knowledge of this and All is being investigated by the FTC and Under 15 U.S. Code 1681b Permissible purposes of consumer reports i never gave any written consent to report anything on my consumer reports no consent is fraud.                                                                                                                                                                                                                                                                                                                                                                                                                                                                                                                                                                                                                                                                                                                                                                                                                                                                                                                                                                                                                                                                                                                                                                                                                                                                                                                                                                                                                                                                                                                                                                                                                                                                                                                                                                                                                                                                                                                                                                                                                                                                                                                                                                                                                                                                                                                                                                                                                                                                                                                                                                                                                                                                                                                                                                                                                                                                                                                                                                                                                                                                                                                                                                                                                                                                                                                                                                                                                                                                                                                                                                                                                                                                                                                                                                                                                                                                                                                                                                                                                                                                                                                                                                                                                                                                                                                                                                                                                                                                                                                                                                                                                                                                                                                                                                                                                                                                                                                                                                                                                                                                                                                                                                                                                                                                                                                                                                                                             3\n",
       "My name is XXXX XXXX XXXX this complaint is not made in error neither is it being made by a third party.I declare under penalty of perjury I am alleging that a person or company- without my authorization- from unauthorized use of my social security number and card used my personal identifying information to apply for goods, services, or money ; and, was successful in creating some accounts. I have no knowledge of this and All is being investigated by the FTC and Under 15 U.S. Code 1681b Permissible purposes of consumer reports i never gave any written consent to report anything on my consumer reports no consent is fraud.                                                                                                                                                                                                                                                                                                                                                                                                                                                                                                                                                                                                                                                                                                                                                                                                                                                                                                                                                                                                                                                                                                                                                                                                                                                                                                                                                                                                                                                                                                                                                                                                                                                                                                                                                                                                                                                                                                                                                                                                                                                                                                                                                                                                                                                                                                                                                                                                                                                                                                                                                                                                                                                                                                                                                                                                                                                                                                                                                                                                                                                                                                                                                                                                                                                                                                                                                                                                                                                                                                                                                                                                                                                                                                                                                                                                                                                                                                                                                                                                                                                                                                                                                                                                                                                                                                                                                                                                                                                                                                                                                                                                                                                                                                                                                                                                                                                                                                                                                                                                                                                                                                                                                                                                                                                                                                                                                                                                        3\n",
       "My name is XXXX XXXX XXXX this complaint is not made in error neither is it being made by a third party.I declare under penalty of perjury ( under the laws of the United States, if executed outside of the United States ) that the foregoing is true and correct to the best of my knowledge. Further, I certify that I am permitted by FEDERAL and STATE LAW to file this dispute. I also understand that knowing and willful misstatements or omissions of material facts constitutes a FEDERAL CRIMINAL VIOLATION punishable under 18 U.S.C. 1001. Additionally, these misstatements are punishable as perjury under 18 U.S.C. 1621. The items found within my credit report that I listed on the following pages are not related to any transaction that I made. I am alleging that a person or company- without my authorization- used my personal identifying information to apply for goods, services, or money ; and, was successful in creating some accounts. All is being investigated by the FTC.                                                                                                                                                                                                                                                                                                                                                                                                                                                                                                                                                                                                                                                                                                                                                                                                                                                                                                                                                                                                                                                                                                                                                                                                                                                                                                                                                                                                                                                                                                                                                                                                                                                                                                                                                                                                                                                                                                                                                                                                                                                                                                                                                                                                                                                                                                                                                                                                                                                                                                                                                                                                                                                                                                                                                                                                                                                                                                                                                                                                                                                                                                                                                                                                                                                                                                                                                                                                                                                                                                                                                                                                                                                                                                                                                                                                                                                                                                                                                                                                                                                                                                                                                                                                                                                                                                                                                                                                                                                                                                                                                                                                                                                                                                                                                                                                                                                                                                                                                                                                                                            3\n",
       "I am filing this complaint because has ignored my request to provide me with the documents that their company has on file that was used to verify the accounts I disputed. Being that they have gone past the 30 day mark and can not verify these accounts under Section 611 ( 5 ) ( A ) of the FCRA- they are required to. Promptly delete all information which can not be verified. Please resolve this manner as soon as possible thank you                                                                                                                                                                                                                                                                                                                                                                                                                                                                                                                                                                                                                                                                                                                                                                                                                                                                                                                                                                                                                                                                                                                                                                                                                                                                                                                                                                                                                                                                                                                                                                                                                                                                                                                                                                                                                                                                                                                                                                                                                                                                                                                                                                                                                                                                                                                                                                                                                                                                                                                                                                                                                                                                                                                                                                                                                                                                                                                                                                                                                                                                                                                                                                                                                                                                                                                                                                                                                                                                                                                                                                                                                                                                                                                                                                                                                                                                                                                                                                                                                                                                                                                                                                                                                                                                                                                                                                                                                                                                                                                                                                                                                                                                                                                                                                                                                                                                                                                                                                                                                                                                                                                                                                                                                                                                                                                                                                                                                                                                                                                                                                                                            2\n",
       "I'm really not sure what happened. I have mailed off letters to the credit bureaus continuously and thus far I have not gotten a response.My name is XXXX XXXX and I am filing this complaint for falsely reporting misleading information.There is no third party involved.Please review the uploaded letters.                                                                                                                                                                                                                                                                                                                                                                                                                                                                                                                                                                                                                                                                                                                                                                                                                                                                                                                                                                                                                                                                                                                                                                                                                                                                                                                                                                                                                                                                                                                                                                                                                                                                                                                                                                                                                                                                                                                                                                                                                                                                                                                                                                                                                                                                                                                                                                                                                                                                                                                                                                                                                                                                                                                                                                                                                                                                                                                                                                                                                                                                                                                                                                                                                                                                                                                                                                                                                                                                                                                                                                                                                                                                                                                                                                                                                                                                                                                                                                                                                                                                                                                                                                                                                                                                                                                                                                                                                                                                                                                                                                                                                                                                                                                                                                                                                                                                                                                                                                                                                                                                                                                                                                                                                                                                                                                                                                                                                                                                                                                                                                                                                                                                                                                                             2\n",
       "                                                                                                                                                                                                                                                                                                                                                                                                                                                                                                                                                                                                                                                                                                                                                                                                                                                                                                                                                                                                                                                                                                                                                                                                                                                                                                                                                                                                                                                                                                                                                                                                                                                                                                                                                                                                                                                                                                                                                                                                                                                                                                                                                                                                                                                                                                                                                                                                                                                                                                                                                                                                                                                                                                                                                                                                                                                                                                                                                                                                                                                                                                                                                                                                                                                                                                                                                                                                                                                                                                                                                                                                                                                                                                                                                                                                                                                                                                                                                                                                                                                                                                                                                                                                                                                                                                                                                                                                                                                                                                                                                                                                                                                                                                                                                                                                                                                                                                                                                                                                                                                                                                                                                                                                                                                                                                                                                                                                                                                                                                                                                                                                                                                                                                                                                                                                                                                                                                                                                                                                                                                           ..\n",
       "I was a victim of Identity Theft, I submitted an ID THEFT AFFIDAVIT and POLICE REPORT in regards to the fraudulent accounts that have been listed in my name ... per Section 605B, these accounts should BE blocked and or removed during the investigation process, yet all 3 bureaus continue to report these items furthering the damage already done to my financial future.                                                                                                                                                                                                                                                                                                                                                                                                                                                                                                                                                                                                                                                                                                                                                                                                                                                                                                                                                                                                                                                                                                                                                                                                                                                                                                                                                                                                                                                                                                                                                                                                                                                                                                                                                                                                                                                                                                                                                                                                                                                                                                                                                                                                                                                                                                                                                                                                                                                                                                                                                                                                                                                                                                                                                                                                                                                                                                                                                                                                                                                                                                                                                                                                                                                                                                                                                                                                                                                                                                                                                                                                                                                                                                                                                                                                                                                                                                                                                                                                                                                                                                                                                                                                                                                                                                                                                                                                                                                                                                                                                                                                                                                                                                                                                                                                                                                                                                                                                                                                                                                                                                                                                                                                                                                                                                                                                                                                                                                                                                                                                                                                                                                                            1\n",
       "I have sent numerous dispute letters to Equifax regarding a XXXX credit card account reporting on my credit profile. I sent a certified letter requesting Equifax 's method of verifying and investigating the account with no response. Disputes are opened and then closed within a few days with no explanations. I spoke to a representative and a supervisor from Equifax and they stated a thorough investigation was not conducted except sending the letter through XXXX The information that was returned was an address associated with the account that I am unfamiliar with and have never resided at along with other information that did not match my credit file nor belong to me. I immediately filed an FTC report for fraud once I learned of the information and filed another dispute with Equifax. This account STILL remains on my credit profile when it should have been deleted. Equifax failed to conduct a proper and thorough investigation as requested for this account. This has continued to have negative effects on my credit profile from their negligence in looking into the matter.                                                                                                                                                                                                                                                                                                                                                                                                                                                                                                                                                                                                                                                                                                                                                                                                                                                                                                                                                                                                                                                                                                                                                                                                                                                                                                                                                                                                                                                                                                                                                                                                                                                                                                                                                                                                                                                                                                                                                                                                                                                                                                                                                                                                                                                                                                                                                                                                                                                                                                                                                                                                                                                                                                                                                                                                                                                                                                                                                                                                                                                                                                                                                                                                                                                                                                                                                                                                                                                                                                                                                                                                                                                                                                                                                                                                                                                                                                                                                                                                                                                                                                                                                                                                                                                                                                                                                                                                                                                                                                                                                                                                                                                                                                                                                                                                                                                                                                                                  1\n",
       "I have written to Experian that is still reporting this misleading and fraudulent information on my credit profile. XXXX and XXXX   has corrected the matter promptly. I have given Experian notice through urgent letters and submitted an affidavit in reference to the fraudulent accoun, incorrect addresses on my Experian are invalid as well. \\n\\nExperian reporting this misleading fraudulent information is preventing me from obtaining a mortgage loan. Thank you for helping me hold Experian responsible in correcting and Deleting this Fraudulent information on my credit profile immediately.                                                                                                                                                                                                                                                                                                                                                                                                                                                                                                                                                                                                                                                                                                                                                                                                                                                                                                                                                                                                                                                                                                                                                                                                                                                                                                                                                                                                                                                                                                                                                                                                                                                                                                                                                                                                                                                                                                                                                                                                                                                                                                                                                                                                                                                                                                                                                                                                                                                                                                                                                                                                                                                                                                                                                                                                                                                                                                                                                                                                                                                                                                                                                                                                                                                                                                                                                                                                                                                                                                                                                                                                                                                                                                                                                                                                                                                                                                                                                                                                                                                                                                                                                                                                                                                                                                                                                                                                                                                                                                                                                                                                                                                                                                                                                                                                                                                                                                                                                                                                                                                                                                                                                                                                                                                                                                                                                                                                                                             1\n",
       "Hi I am submitting this XXXX XXXX this isn't any influence and this is not a third party. XXXX has low and unfair credit number for me in their report. I have complained more than 88 times nonstop this is exhausting im XXXX  they are not putting these fraudulent inquiries in dispute and accounts and they still haven't deleted them either I am XXXX. The problem has not been resolved. my fico has me at a credit score over XXXX XXXX has me at a score around XXXX. That is a huge difference. XXXX paints me as a XXXX. my fico say I have good credit. What the heck is going on here. i have almost no debt and my identity was stolen causing my score to drop n i made this clear for 90 days straight with XXXX i spoke to a representative agent name XXXX and XXXX and XXXX and XXXX and XXXX from the fraud department I prefer to speak to a us rept but they refused they had me on mute for 4 hours which was hurtful I have a perfect repayment record. I have very low credit utilization. I have one negative credit items outstanding debt now that is not mines. I have modest but ok income. Social Security. Something is wrong with XXXX. I do not understand why they are abusing consumers they don't help you at all This was a first step towards attempting resolution. They kept lying telling me they disputed n its not reporting but it keep reporting this inaccurate information without my authorization. They refused or were unable to verify n remove the inquiries and negative account its been 60days n they record the calls n admitted they had my police report n ftc and affidavit That was after attempting to contact XXXX more than 88 times in the last 120 days. XXXX is an XXXX  company. They are supposed to be protecting consumers. They need to be reigned in. they are causing me severe XXXX and stopping me from getting this XXXX  offer n now XXXX XXXX  n cant provide to my XXXX year XXXX XXXX PLEASE HELP ME PLEASE XXXX XXXX  now.with no help they keep ignoring me after I keep telling them repeatedly they are hurting my character of my name they won't respond and it not even in investigation with and me and my son are bout to be XXXX  please help I cant live like this The credit bureaus never did a proper \" investigation '' according to the FCRA. Section 1681a of the Fair Credit Reporting Act defines an investigative consumer report as a consumer report or portion thereof in which information on a consumer 's character, general reputation, personal characteristics, or mode of living is obtained through personal interviews with neighbors, friends, or associates of the consumer reported on or with others with whom he is acquainted or who may have knowledge concerning any such items of information. They did not do this. Also they have violated my rights even more. The credit bureaus stated my account was properly investigated but how is that possible if I never gave these creditors WRITTEN CONSENT OR AUTHORIZATION TO USE MY PERSONAL INFORMATION TO OPEN OR CLOSE ANY ACCOUNT. THESE BALANCES IS IN ACCURATE, PAYMENT STATUS AND HISTORY IN ACCURATE, LAST ACTIVITY DATE IS IN ACCURATE, ALL INFORMATION REGARDING THESE NEGATIVE INSTALLMENT LOAN IS INACCURATE.Someone is using my personal information pretending to be me to obtain credit. I don't know anything about this fraudulent account. I don't have any closed OR OPEN accounts with THESE LISTED CREDITORS BELOW WITH MY DOCUMENTATION. Also they have violated my rights even more In accordance with the Fair Credit Reporting Everything has to be 100 % accurate on my credit report. The credit bureaus stated it was properly investigated but how is that even possible if THESE CREDITORS DID NOT GET ANY WRITTEN SIGNATURE, CONSENT OR AUTHORIZATION FROM ME. This account is fraud and does not belong to me, this is in accurate, I have never opened or closed any account with THESE CREDITORS I ask for documents with signature or authorization, they did not submit my request.This grounds for removal and deletion immediately. I never gave THESE CREDITORS ANY WRITTEN CONSENT OR AUTHORIZATION TO USE MY PERSONAL INFORMATION TO OPEN THIS ACCOUNT. THIS IS FRAUD. I'VE ASK FOR SIGNED DOCUMENTS WITH MY SIGNATURE GIVING WRITTEN CONSENT TO OPEN THIS FRAUDULENT CREDIT ACCOUNTS. SOMEONE USE MY PERSONAL INFORMATION PRETENDING TO BE ME WITHOUT MY AUTHORIZATION OR CONSENT TO OPEN OR CLOSE ANY CREDIT ACCOUNT WITH THESE CREDITORS BELOW They also violated the law because according to 15 U.S.C 1681 section 602 A. states i have the rights to privacy 15 U.S.C 1681 section 604 section 2 : it also states a consumer reporting agency can not furnish a account without my written consent. In accordance with the Fair Credit Reporting act WITH THESE CREDITORS BELOW EQUIFAX AND XXXX XXXX XXXX  has violated my rights. 15 U.S.C 1681 section 602 A. States I have the right to privacy. 15 U.S.C 1681 Section 604 A Section 2 : It also states a consumer reporting agency can not furnish a account without my written instructions 15 U.S.C 1666B : A creditor may not treat a payment on a credit card account under an open end consumer credit plan as late for any purpose SECTION 604 15 U.S CODE 1681 B THE LAW STATES THAT NO ONE CAN FURNISH INFORMATION ON MY CREDIT REPORT WITHOUT MY CONSENT. SECTION 605 A 15 U.S CODE 1681 C-1 WITH NO WRITTEN CONSENT OR INSTRUCTIONS THAT WOULD IN FACT BE IDENTITY THEFT SECTION 605 B 15 U.S CODE 1681C A copy of section 605B of the Fair Credit Reporting Act, whichrequires you to block the.fraudulent information on my credit report resulting from identity theft within four business days and to promptly notify the furnisher ( s ) of that information. Please block this information from my credit report, pursuant to section 605B of the Fair Credit Reporting Act, and send the required notifications to all furnishers of thisinformation.    1\n",
       "I am requesting again in regard to the inaccurate and unknown items on my credit report. There are multiple errors shown in my report. Please verify that all items are 100 percent true, accurate, and correct, and are not untimely, unverifiable, incomplete, or inaccurate. Please delete these items and remove negativity. Do so, to comply with FCRA section 611 which requires all reporting to be 100 % accurate. \\n\\nXXXX XXXX XXXX XXXX XXXX XXXX XXXX XXXX XXXX XXXX XXXX XXXX XXXX XXXX XXXX XXXX XXXX XXXX XXXX XXXX XXXX XXXX XXXX XXXX XXXX XXXX XXXX XXXX XXXX XXXX XXXX XXXX XXXX XXXX XXXX XXXX XXXX XXXX XXXX                                                                                                                                                                                                                                                                                                                                                                                                                                                                                                                                                                                                                                                                                                                                                                                                                                                                                                                                                                                                                                                                                                                                                                                                                                                                                                                                                                                                                                                                                                                                                                                                                                                                                                                                                                                                                                                                                                                                                                                                                                                                                                                                                                                                                                                                                                                                                                                                                                                                                                                                                                                                                                                                                                                                                                                                                                                                                                                                                                                                                                                                                                                                                                                                                                                                                                                                                                                                                                                                                                                                                                                                                                                                                                                                                                                                                                                                                                                                                                                                                                                                                                                                                                                                                                                                                                                                                                                                                                                                                                                                                                                                                                                                                                                                                                                                                                                                                                                                                                                                                                                                                                                                                                                                                                                                                                                                                                                                                           1\n",
       "Name: Consumer complaint narrative, Length: 1107, dtype: int64"
      ]
     },
     "metadata": {},
     "output_type": "display_data"
    }
   ],
   "source": [
    "display(X_train.value_counts())"
   ]
  },
  {
   "cell_type": "code",
   "execution_count": 79,
   "metadata": {},
   "outputs": [
    {
     "data": {
      "text/plain": [
       "Credit reporting, repair, or other    261\n",
       "Debt collection                        73\n",
       "Mortgage                               37\n",
       "Consumer Loan                           4\n",
       "Name: Product, dtype: int64"
      ]
     },
     "metadata": {},
     "output_type": "display_data"
    }
   ],
   "source": [
    "display(y_test.value_counts())"
   ]
  },
  {
   "cell_type": "code",
   "execution_count": 80,
   "metadata": {},
   "outputs": [
    {
     "data": {
      "text/plain": [
       "I'm really not sure what happened. I have mailed off letters to the credit bureaus continuously and thus far I have not gotten a response. My name is XXXX XXXX and I am filing this complaint for falsely reporting misleading information. There is no third party involved. Please review the uploaded letters.                                                                                                                                                                                                                                                                                                                                                                                                                                                                                                                                                                                                                                                                                                                                                                                                                                                                                                                                                                                                                                                                                                                                                                                                                                                                                                                                                                                                                                                                                                                                                                                                                                                                                                                                                                                                                                                                                                                                                                                                                                                                                                                                                                                                                                                                                                                                                                            3\n",
       "I have sent letters to the credit bureaus because I have inaccurate information on it, accounts that I already paid showing delinquent, accounts that are not delinquent showing like it is, inquiries I didn't authorized on my credit report. I credit score. want to open an investigation and solve my problem because is affecting my Credit Score.                                                                                                                                                                                                                                                                                                                                                                                                                                                                                                                                                                                                                                                                                                                                                                                                                                                                                                                                                                                                                                                                                                                                                                                                                                                                                                                                                                                                                                                                                                                                                                                                                                                                                                                                                                                                                                                                                                                                                                                                                                                                                                                                                                                                                                                                                                                                      2\n",
       "I reviewed my recent credit report and upon checking I noticed that there is inaccurate and fraudulent account that I needed to report and correct by your company. My information was misused and it is identity theft. I did not own the following debt. Here is the list that indicates the company name, balance, and date last reported : XXXX  / {$62.00} / XX/XX/2022                                                                                                                                                                                                                                                                                                                                                                                                                                                                                                                                                                                                                                                                                                                                                                                                                                                                                                                                                                                                                                                                                                                                                                                                                                                                                                                                                                                                                                                                                                                                                                                                                                                                                                                                                                                                                                                                                                                                                                                                                                                                                                                                                                                                                                                                                                                  1\n",
       "I have reached out to chase on XX/XX/XXXX, XXXX have told me that i do not have any late payments in their system but for some reason on all three consumer reporting agency it show a late payment on XX/XX/XXXX. Under FDCPA 15 U.S. Code? 1692e.False or misleading representations, you allowed the consumer reporting agency to violate my right.                                                                                                                                                                                                                                                                                                                                                                                                                                                                                                                                                                                                                                                                                                                                                                                                                                                                                                                                                                                                                                                                                                                                                                                                                                                                                                                                                                                                                                                                                                                                                                                                                                                                                                                                                                                                                                                                                                                                                                                                                                                                                                                                                                                                                                                                                                                                        1\n",
       "I have numerous unauthorized inquiries on my credit report.                                                                                                                                                                                                                                                                                                                                                                                                                                                                                                                                                                                                                                                                                                                                                                                                                                                                                                                                                                                                                                                                                                                                                                                                                                                                                                                                                                                                                                                                                                                                                                                                                                                                                                                                                                                                                                                                                                                                                                                                                                                                                                                                                                                                                                                                                                                                                                                                                                                                                                                                                                                                                                   1\n",
       "                                                                                                                                                                                                                                                                                                                                                                                                                                                                                                                                                                                                                                                                                                                                                                                                                                                                                                                                                                                                                                                                                                                                                                                                                                                                                                                                                                                                                                                                                                                                                                                                                                                                                                                                                                                                                                                                                                                                                                                                                                                                                                                                                                                                                                                                                                                                                                                                                                                                                                                                                                                                                                                                                             ..\n",
       "In accordance with Fair Credit Reporting act. The list of accounts below has violated my federally protected consumer rights to privacy and confidentiality under 15 USC 1681. XXXX XXXX XXXX XXXX  ( Finance ), XXXX XXXX XXXX  ( Bank ), XXXX  XXXX ( Bank ), XXXX ( Finance ), XXXX XXXX XXXX ( Finance ), XXXX  XXXX ( Bank ), XXXX XXXX  XXXX ( Auto ), XXXX XXXX XXXX ( Bank ), XXXX XXXX ( Bank ) XXXX XXXX XXXX ( Auto ) , XXXX XXXX XXXX XXXX XXXX XXXX ( Finance ), XXXX XXXX XXXX ( Bank ), XXXX XXXX XXXX ( Bank ), XXXX XXXX XXXX ( Bank ) , XXXX ( Bank ), XXXX XXXX XXXX and XXXX XXXX has violated my rights . 15 U.S.C 1681 section 602 A. States I have the right to privacy 15 U.S.C 1681 SECTION 604 A section 2 : it also states a consumer reporting agency can not furnish a account without my written instructions 15 U.S.C 1681c ( a ) ( 5 ) Section States : No consumer reporting agency may make any consumer reports containing any of the items of information any other adverse item of information, other than records of convictions of crimes which antedates the report by more than seven years. 15 U.S.C 1681s-2 ( a ) ( 1 ) A person shall not furnish any information relating to a consumer to any consumer reporting agency if the person knows or has reasonable cause to believe that information is inaccurate.                                                                                                                                                                                                                                                                                                                                                                                                                                                                                                                                                                                                                                                                                                                                                                                                                                                                                                                                                                                                                                                                                                                                                                                                                                                                                                                                  1\n",
       "PLEASE REOPEN THIS FILE AS NONE OF THESE ISSUES WERE PROPERLY ADDRESSED! IT IS MY LEGAL RIGHT AS A CONSUMER TO HAVE MY CREDIT FILE TO BE 100 % ACCURATE AND MY FILE WITH THIS COMPANY IS NOT THIS IS WHY I FILE MY COMPLAINT WITH THIS AGENCY! PLEASE DO THE RIGHT THING AND REPRESENT ME PROPERLY AND HELP ME WITH ALL THE INFORMATION DOCUMENTATION I PROVIDED YOU TO HELP ME GET MY CREDIT FILE WITH THIS CREDIT REPORTING ANGENCY 100 % ACCURATE!! I WILL BE ALSO SENDING THE SAME INFORMATION TO THE FTC! THANK YOU AGAIN FOR YOU HARD WORK ON HELPING US AMERICANS!! BLESS YOU!! I FORMALLY REQUEST THAT YOU REOPEN MY COMPLAINT AGAIN!! \\nXXXX, XXXX, AND XXXX THESE WERE ALL CLOSED AND NEED TO BE REOPENED WITH THE INFORMATION PROVIDED PLEASE! \\n\\n\\nTHESE CREDIT REPORTING AGENCIES NEED TO BE REPORTING 100 % ACCURATE INFORMATION AND NOT WHATEVER THEY WANT TO REPORT! THIS WRONG INFORMATION HURTS ME AS AN AMERICAN AND AS A CREDITOR!                                                                                                                                                                                                                                                                                                                                                                                                                                                                                                                                                                                                                                                                                                                                                                                                                                                                                                                                                                                                                                                                                                                                                                                                                                                                                                                                                                                                                                                                                                                                                                                                                                                                                                                                       1\n",
       "In XXXX of XXXX I signed up for XXXX XXXX  to pay my mortgage to Nation Star Mr. Cooper Mortgage company. \\nSix mortgage payments from XXXX of XXXX to XX/XX/XXXX were sent to Mr. Cooper. I by mistake entered the wrong mortgage account number on my XXXX XXXX  The correct For 6 months my XXXX  XXXX XXXX was sending these payments to the wrong account. \\nAt the same time Mr. Cooper was withdrewing the same amount every month through their auto pay and as a result of that 2 mortgage payments were moved to Mr. Cooper every month for 6 months from my XXXX account. \\nWhen I found out 2 months ago I contacted both Mr. Cooper and XXXX  to solve this problem. They are both blaming each other. XXXX people say they have sent these payments and they were accepted by Mr. Cooper and they provided me with the proof of that these payments were accepted by Mr. Cooper. Mr. Cooper says since this account doesn't exist we rejected these payments. \\nNot only that but it's taking me many hours every day to contact someone from XXXX  and Mr. Cooper trying to resolve this issue. I have spent so much time for the past 2 months talking to different representatives from both XXXX and Mr. Cooper without reaching a solution to this problem. \\nIf these payments were sent and accepted by Mr. Cooper and Mr. Cooper rejected them then where did these payments go? My six mortgage payments that totaled close to {$10000.00} are lost and no one seems to know what happened to these 6 payments.\\n\\nI would appreciate your assistance in resolving this problem. \\nThanks                                                                                                                                                                                                                                                                                                                                                                                                                                                                                                                                                                                                                                                                                                                                                                                                                                                                                                                                                                                                                                                                              1\n",
       "After reviewing my credit report on all 3 of the main bureaus I noticed there was a negative collections account listed under the name Midwest Recovery. I have never received any communication from this company and they are reporting negative and false information on my credit. It has also come to my attention that Midwest Recovery does not have an active license in the state of Florida and therefore can not attempt to collect this debt i have no information on.                                                                                                                                                                                                                                                                                                                                                                                                                                                                                                                                                                                                                                                                                                                                                                                                                                                                                                                                                                                                                                                                                                                                                                                                                                                                                                                                                                                                                                                                                                                                                                                                                                                                                                                                                                                                                                                                                                                                                                                                                                                                                                                                                                                                            1\n",
       "I have a huge concern and I believe your agency can help me. I have lived in the state of Louisiana for 17 years and I have owned a home in XXXX, LA for 10 years. I am a proud community member who is invested in living my life there. My concern is that I am in danger of losing my home. Carrington Mortgage is the servicer of an FHA loan and they are trying to take my home without giving me a chance to make things right. I am a skilled pipe fitter and have been doing this for 10 years. I work hard and make good money but in early XX/XX/2017 my work hours were significantly reduced. I have had a difficult time ever since. I had to use up my savings to hang on, scrimping where I can but I unfortunately couldnt stretch any farther and I missed my first mortgage payment that XX/XX/XXXX. It was humiliating. I have been trying to get help ever since. \\n\\nI contacted Carrington Mortgage for assistance but was given the run around. I called and called but with no particular person to help me it feels like a never ending task. I sit on hold for long periods of time before I am told I have the wrong person and have to hold again. One person tells me one thing, then another says thats not right. What else am I supposed to do? I imagine my applications sitting on someones desk for weeks without being touched. Do other people have to go through this if they need help? Whatever happened to customer service? I have applied for a modification now many times and each time I was denied and the process would start all over again. Plus I am never told why I am being denied. So frustrating! I cant seem to get a break. Then I was told I qualified for a repayment plan but, after going through the agonizing process of applying for that I was denied for that, too. Who can help me? I have asked to speak with supervisors, managers and anyone with some authority but I get nowhere. I am getting desperate. I really hope you can help me. \\n\\nI am making good money now and I am finally starting to get back on my feet. My sister is now living with me and is helping out with the finances. She is also a hard worker and is committed to helping me keep my house. Together we have a comfortable life and would be devastated to have to move. I know I can make good on this loan if I can just get another chance and have some help in dealing with Carrington mortgage. I am sure there must be laws that protect and help someone like me. I am willing to apply for whatever program would get me started again and follow through with this if there really is hope that I can get the help I need.    1\n",
       "Name: Consumer complaint narrative, Length: 372, dtype: int64"
      ]
     },
     "metadata": {},
     "output_type": "display_data"
    }
   ],
   "source": [
    "display(X_test.value_counts())"
   ]
  },
  {
   "cell_type": "code",
   "execution_count": 81,
   "metadata": {},
   "outputs": [
    {
     "data": {
      "text/plain": [
       "(<1125x6217 sparse matrix of type '<class 'numpy.float64'>'\n",
       " \twith 52245 stored elements in Compressed Sparse Row format>,\n",
       " <375x6217 sparse matrix of type '<class 'numpy.float64'>'\n",
       " \twith 16603 stored elements in Compressed Sparse Row format>)"
      ]
     },
     "execution_count": 81,
     "metadata": {},
     "output_type": "execute_result"
    }
   ],
   "source": [
    "vectorizer = TfidfVectorizer(stop_words= 'english')\n",
    "# convert the documents into a matrix\n",
    "X_train_vec = vectorizer.fit_transform(X_train)\n",
    "X_test_vec  = vectorizer.transform(X_test)\n",
    "X_train_vec, X_test_vec"
   ]
  },
  {
   "cell_type": "code",
   "execution_count": 82,
   "metadata": {},
   "outputs": [
    {
     "name": "stdout",
     "output_type": "stream",
     "text": [
      "(1125, 100) (375, 100)\n"
     ]
    },
    {
     "data": {
      "text/html": [
       "<div>\n",
       "<style scoped>\n",
       "    .dataframe tbody tr th:only-of-type {\n",
       "        vertical-align: middle;\n",
       "    }\n",
       "\n",
       "    .dataframe tbody tr th {\n",
       "        vertical-align: top;\n",
       "    }\n",
       "\n",
       "    .dataframe thead th {\n",
       "        text-align: right;\n",
       "    }\n",
       "</style>\n",
       "<table border=\"1\" class=\"dataframe\">\n",
       "  <thead>\n",
       "    <tr style=\"text-align: right;\">\n",
       "      <th></th>\n",
       "      <th>0</th>\n",
       "      <th>1</th>\n",
       "      <th>2</th>\n",
       "      <th>3</th>\n",
       "      <th>4</th>\n",
       "      <th>5</th>\n",
       "      <th>6</th>\n",
       "      <th>7</th>\n",
       "      <th>8</th>\n",
       "      <th>9</th>\n",
       "      <th>...</th>\n",
       "      <th>90</th>\n",
       "      <th>91</th>\n",
       "      <th>92</th>\n",
       "      <th>93</th>\n",
       "      <th>94</th>\n",
       "      <th>95</th>\n",
       "      <th>96</th>\n",
       "      <th>97</th>\n",
       "      <th>98</th>\n",
       "      <th>99</th>\n",
       "    </tr>\n",
       "  </thead>\n",
       "  <tbody>\n",
       "    <tr>\n",
       "      <th>0</th>\n",
       "      <td>0.000000</td>\n",
       "      <td>0.0</td>\n",
       "      <td>0.0</td>\n",
       "      <td>0.000000</td>\n",
       "      <td>0.0</td>\n",
       "      <td>0.0</td>\n",
       "      <td>0.0</td>\n",
       "      <td>0.0</td>\n",
       "      <td>0.0</td>\n",
       "      <td>0.0</td>\n",
       "      <td>...</td>\n",
       "      <td>0.0</td>\n",
       "      <td>0.0</td>\n",
       "      <td>0.0</td>\n",
       "      <td>0.000000</td>\n",
       "      <td>0.0</td>\n",
       "      <td>0.0</td>\n",
       "      <td>0.0</td>\n",
       "      <td>0.0</td>\n",
       "      <td>0.0</td>\n",
       "      <td>0.0</td>\n",
       "    </tr>\n",
       "    <tr>\n",
       "      <th>1</th>\n",
       "      <td>0.000000</td>\n",
       "      <td>0.0</td>\n",
       "      <td>0.0</td>\n",
       "      <td>0.076782</td>\n",
       "      <td>0.0</td>\n",
       "      <td>0.0</td>\n",
       "      <td>0.0</td>\n",
       "      <td>0.0</td>\n",
       "      <td>0.0</td>\n",
       "      <td>0.0</td>\n",
       "      <td>...</td>\n",
       "      <td>0.0</td>\n",
       "      <td>0.0</td>\n",
       "      <td>0.0</td>\n",
       "      <td>0.164227</td>\n",
       "      <td>0.0</td>\n",
       "      <td>0.0</td>\n",
       "      <td>0.0</td>\n",
       "      <td>0.0</td>\n",
       "      <td>0.0</td>\n",
       "      <td>0.0</td>\n",
       "    </tr>\n",
       "    <tr>\n",
       "      <th>2</th>\n",
       "      <td>0.000000</td>\n",
       "      <td>0.0</td>\n",
       "      <td>0.0</td>\n",
       "      <td>0.055209</td>\n",
       "      <td>0.0</td>\n",
       "      <td>0.0</td>\n",
       "      <td>0.0</td>\n",
       "      <td>0.0</td>\n",
       "      <td>0.0</td>\n",
       "      <td>0.0</td>\n",
       "      <td>...</td>\n",
       "      <td>0.0</td>\n",
       "      <td>0.0</td>\n",
       "      <td>0.0</td>\n",
       "      <td>0.000000</td>\n",
       "      <td>0.0</td>\n",
       "      <td>0.0</td>\n",
       "      <td>0.0</td>\n",
       "      <td>0.0</td>\n",
       "      <td>0.0</td>\n",
       "      <td>0.0</td>\n",
       "    </tr>\n",
       "    <tr>\n",
       "      <th>3</th>\n",
       "      <td>0.000000</td>\n",
       "      <td>0.0</td>\n",
       "      <td>0.0</td>\n",
       "      <td>0.000000</td>\n",
       "      <td>0.0</td>\n",
       "      <td>0.0</td>\n",
       "      <td>0.0</td>\n",
       "      <td>0.0</td>\n",
       "      <td>0.0</td>\n",
       "      <td>0.0</td>\n",
       "      <td>...</td>\n",
       "      <td>0.0</td>\n",
       "      <td>0.0</td>\n",
       "      <td>0.0</td>\n",
       "      <td>0.000000</td>\n",
       "      <td>0.0</td>\n",
       "      <td>0.0</td>\n",
       "      <td>0.0</td>\n",
       "      <td>0.0</td>\n",
       "      <td>0.0</td>\n",
       "      <td>0.0</td>\n",
       "    </tr>\n",
       "    <tr>\n",
       "      <th>4</th>\n",
       "      <td>0.000000</td>\n",
       "      <td>0.0</td>\n",
       "      <td>0.0</td>\n",
       "      <td>0.024355</td>\n",
       "      <td>0.0</td>\n",
       "      <td>0.0</td>\n",
       "      <td>0.0</td>\n",
       "      <td>0.0</td>\n",
       "      <td>0.0</td>\n",
       "      <td>0.0</td>\n",
       "      <td>...</td>\n",
       "      <td>0.0</td>\n",
       "      <td>0.0</td>\n",
       "      <td>0.0</td>\n",
       "      <td>0.000000</td>\n",
       "      <td>0.0</td>\n",
       "      <td>0.0</td>\n",
       "      <td>0.0</td>\n",
       "      <td>0.0</td>\n",
       "      <td>0.0</td>\n",
       "      <td>0.0</td>\n",
       "    </tr>\n",
       "    <tr>\n",
       "      <th>...</th>\n",
       "      <td>...</td>\n",
       "      <td>...</td>\n",
       "      <td>...</td>\n",
       "      <td>...</td>\n",
       "      <td>...</td>\n",
       "      <td>...</td>\n",
       "      <td>...</td>\n",
       "      <td>...</td>\n",
       "      <td>...</td>\n",
       "      <td>...</td>\n",
       "      <td>...</td>\n",
       "      <td>...</td>\n",
       "      <td>...</td>\n",
       "      <td>...</td>\n",
       "      <td>...</td>\n",
       "      <td>...</td>\n",
       "      <td>...</td>\n",
       "      <td>...</td>\n",
       "      <td>...</td>\n",
       "      <td>...</td>\n",
       "      <td>...</td>\n",
       "    </tr>\n",
       "    <tr>\n",
       "      <th>1120</th>\n",
       "      <td>0.000000</td>\n",
       "      <td>0.0</td>\n",
       "      <td>0.0</td>\n",
       "      <td>0.000000</td>\n",
       "      <td>0.0</td>\n",
       "      <td>0.0</td>\n",
       "      <td>0.0</td>\n",
       "      <td>0.0</td>\n",
       "      <td>0.0</td>\n",
       "      <td>0.0</td>\n",
       "      <td>...</td>\n",
       "      <td>0.0</td>\n",
       "      <td>0.0</td>\n",
       "      <td>0.0</td>\n",
       "      <td>0.000000</td>\n",
       "      <td>0.0</td>\n",
       "      <td>0.0</td>\n",
       "      <td>0.0</td>\n",
       "      <td>0.0</td>\n",
       "      <td>0.0</td>\n",
       "      <td>0.0</td>\n",
       "    </tr>\n",
       "    <tr>\n",
       "      <th>1121</th>\n",
       "      <td>0.285639</td>\n",
       "      <td>0.0</td>\n",
       "      <td>0.0</td>\n",
       "      <td>0.000000</td>\n",
       "      <td>0.0</td>\n",
       "      <td>0.0</td>\n",
       "      <td>0.0</td>\n",
       "      <td>0.0</td>\n",
       "      <td>0.0</td>\n",
       "      <td>0.0</td>\n",
       "      <td>...</td>\n",
       "      <td>0.0</td>\n",
       "      <td>0.0</td>\n",
       "      <td>0.0</td>\n",
       "      <td>0.000000</td>\n",
       "      <td>0.0</td>\n",
       "      <td>0.0</td>\n",
       "      <td>0.0</td>\n",
       "      <td>0.0</td>\n",
       "      <td>0.0</td>\n",
       "      <td>0.0</td>\n",
       "    </tr>\n",
       "    <tr>\n",
       "      <th>1122</th>\n",
       "      <td>0.000000</td>\n",
       "      <td>0.0</td>\n",
       "      <td>0.0</td>\n",
       "      <td>0.000000</td>\n",
       "      <td>0.0</td>\n",
       "      <td>0.0</td>\n",
       "      <td>0.0</td>\n",
       "      <td>0.0</td>\n",
       "      <td>0.0</td>\n",
       "      <td>0.0</td>\n",
       "      <td>...</td>\n",
       "      <td>0.0</td>\n",
       "      <td>0.0</td>\n",
       "      <td>0.0</td>\n",
       "      <td>0.000000</td>\n",
       "      <td>0.0</td>\n",
       "      <td>0.0</td>\n",
       "      <td>0.0</td>\n",
       "      <td>0.0</td>\n",
       "      <td>0.0</td>\n",
       "      <td>0.0</td>\n",
       "    </tr>\n",
       "    <tr>\n",
       "      <th>1123</th>\n",
       "      <td>0.021553</td>\n",
       "      <td>0.0</td>\n",
       "      <td>0.0</td>\n",
       "      <td>0.000000</td>\n",
       "      <td>0.0</td>\n",
       "      <td>0.0</td>\n",
       "      <td>0.0</td>\n",
       "      <td>0.0</td>\n",
       "      <td>0.0</td>\n",
       "      <td>0.0</td>\n",
       "      <td>...</td>\n",
       "      <td>0.0</td>\n",
       "      <td>0.0</td>\n",
       "      <td>0.0</td>\n",
       "      <td>0.000000</td>\n",
       "      <td>0.0</td>\n",
       "      <td>0.0</td>\n",
       "      <td>0.0</td>\n",
       "      <td>0.0</td>\n",
       "      <td>0.0</td>\n",
       "      <td>0.0</td>\n",
       "    </tr>\n",
       "    <tr>\n",
       "      <th>1124</th>\n",
       "      <td>0.000000</td>\n",
       "      <td>0.0</td>\n",
       "      <td>0.0</td>\n",
       "      <td>0.000000</td>\n",
       "      <td>0.0</td>\n",
       "      <td>0.0</td>\n",
       "      <td>0.0</td>\n",
       "      <td>0.0</td>\n",
       "      <td>0.0</td>\n",
       "      <td>0.0</td>\n",
       "      <td>...</td>\n",
       "      <td>0.0</td>\n",
       "      <td>0.0</td>\n",
       "      <td>0.0</td>\n",
       "      <td>0.000000</td>\n",
       "      <td>0.0</td>\n",
       "      <td>0.0</td>\n",
       "      <td>0.0</td>\n",
       "      <td>0.0</td>\n",
       "      <td>0.0</td>\n",
       "      <td>0.0</td>\n",
       "    </tr>\n",
       "  </tbody>\n",
       "</table>\n",
       "<p>1125 rows × 100 columns</p>\n",
       "</div>"
      ],
      "text/plain": [
       "            0    1    2         3    4    5    6    7    8    9   ...   90  \\\n",
       "0     0.000000  0.0  0.0  0.000000  0.0  0.0  0.0  0.0  0.0  0.0  ...  0.0   \n",
       "1     0.000000  0.0  0.0  0.076782  0.0  0.0  0.0  0.0  0.0  0.0  ...  0.0   \n",
       "2     0.000000  0.0  0.0  0.055209  0.0  0.0  0.0  0.0  0.0  0.0  ...  0.0   \n",
       "3     0.000000  0.0  0.0  0.000000  0.0  0.0  0.0  0.0  0.0  0.0  ...  0.0   \n",
       "4     0.000000  0.0  0.0  0.024355  0.0  0.0  0.0  0.0  0.0  0.0  ...  0.0   \n",
       "...        ...  ...  ...       ...  ...  ...  ...  ...  ...  ...  ...  ...   \n",
       "1120  0.000000  0.0  0.0  0.000000  0.0  0.0  0.0  0.0  0.0  0.0  ...  0.0   \n",
       "1121  0.285639  0.0  0.0  0.000000  0.0  0.0  0.0  0.0  0.0  0.0  ...  0.0   \n",
       "1122  0.000000  0.0  0.0  0.000000  0.0  0.0  0.0  0.0  0.0  0.0  ...  0.0   \n",
       "1123  0.021553  0.0  0.0  0.000000  0.0  0.0  0.0  0.0  0.0  0.0  ...  0.0   \n",
       "1124  0.000000  0.0  0.0  0.000000  0.0  0.0  0.0  0.0  0.0  0.0  ...  0.0   \n",
       "\n",
       "       91   92        93   94   95   96   97   98   99  \n",
       "0     0.0  0.0  0.000000  0.0  0.0  0.0  0.0  0.0  0.0  \n",
       "1     0.0  0.0  0.164227  0.0  0.0  0.0  0.0  0.0  0.0  \n",
       "2     0.0  0.0  0.000000  0.0  0.0  0.0  0.0  0.0  0.0  \n",
       "3     0.0  0.0  0.000000  0.0  0.0  0.0  0.0  0.0  0.0  \n",
       "4     0.0  0.0  0.000000  0.0  0.0  0.0  0.0  0.0  0.0  \n",
       "...   ...  ...       ...  ...  ...  ...  ...  ...  ...  \n",
       "1120  0.0  0.0  0.000000  0.0  0.0  0.0  0.0  0.0  0.0  \n",
       "1121  0.0  0.0  0.000000  0.0  0.0  0.0  0.0  0.0  0.0  \n",
       "1122  0.0  0.0  0.000000  0.0  0.0  0.0  0.0  0.0  0.0  \n",
       "1123  0.0  0.0  0.000000  0.0  0.0  0.0  0.0  0.0  0.0  \n",
       "1124  0.0  0.0  0.000000  0.0  0.0  0.0  0.0  0.0  0.0  \n",
       "\n",
       "[1125 rows x 100 columns]"
      ]
     },
     "execution_count": 82,
     "metadata": {},
     "output_type": "execute_result"
    }
   ],
   "source": [
    "from sklearn.feature_selection import SelectKBest, chi2\n",
    "\n",
    "n_features=100\n",
    "\n",
    "ch = SelectKBest(chi2, k=n_features)\n",
    "X_train_sp = ch.fit_transform(X_train_vec, y_train)\n",
    "X_test_sp  = ch.transform(X_test_vec)\n",
    "\n",
    "X_train_sp, X_test_sp\n",
    "\n",
    "# Converting the sparse matrix to a dense one to visualize it.\n",
    "\n",
    "cols = list(range(n_features))\n",
    "\n",
    "X_train_dense = pd.DataFrame(data=X_train_sp.toarray(), columns=cols)\n",
    "X_test_dense  = pd.DataFrame(data=X_test_sp.toarray(), columns=cols)\n",
    "print(X_train_dense.shape, X_test_dense.shape)\n",
    "X_train_dense"
   ]
  },
  {
   "cell_type": "code",
   "execution_count": 83,
   "metadata": {},
   "outputs": [
    {
     "data": {
      "text/plain": [
       "{'Consumer Loan': 0,\n",
       " 'Credit reporting, repair, or other': 1,\n",
       " 'Debt collection': 2,\n",
       " 'Mortgage': 3}"
      ]
     },
     "execution_count": 83,
     "metadata": {},
     "output_type": "execute_result"
    }
   ],
   "source": [
    "# Now we have train and test data as vectors\n",
    "# Let us also convert the target data appropriately\n",
    "\n",
    "\n",
    "encoder = LabelEncoder()\n",
    "y_train2  = encoder.fit_transform(y_train)\n",
    "y_test2   = encoder.transform(y_test)\n",
    "y_train2.min(), y_train2.max(), y_test2.min(), y_test2.max() # sanity check\n",
    "mapping = {l: i for i, l in enumerate(encoder.classes_)}\n",
    "mapping"
   ]
  },
  {
   "cell_type": "code",
   "execution_count": 84,
   "metadata": {},
   "outputs": [
    {
     "name": "stdout",
     "output_type": "stream",
     "text": [
      "Requirement already satisfied: xgboost in c:\\users\\vishn\\anaconda3\\lib\\site-packages (2.0.0)\n",
      "Requirement already satisfied: numpy in c:\\users\\vishn\\anaconda3\\lib\\site-packages (from xgboost) (1.24.3)\n",
      "Requirement already satisfied: scipy in c:\\users\\vishn\\anaconda3\\lib\\site-packages (from xgboost) (1.10.1)\n",
      "Mean Accuracy: 0.847111111111111\n"
     ]
    }
   ],
   "source": [
    "!pip install xgboost\n",
    "import xgboost as xgb\n",
    "from sklearn.model_selection import cross_val_score\n",
    "import numpy as np\n",
    "\n",
    "# Create an XGBoost classifier with the desired parameters\n",
    "xgb_model = xgb.XGBClassifier(n_estimators=200, random_state=42, n_jobs=-1)\n",
    "\n",
    "# Perform cross-validation with XGBoost\n",
    "scores = cross_val_score(xgb_model, X_train_dense, y_train2, cv=5, n_jobs=-1, scoring='accuracy')\n",
    "\n",
    "# Calculate the mean accuracy\n",
    "mean_accuracy = np.mean(scores)\n",
    "\n",
    "# Print the mean accuracy\n",
    "print(\"Mean Accuracy:\", mean_accuracy)\n"
   ]
  },
  {
   "cell_type": "code",
   "execution_count": 85,
   "metadata": {},
   "outputs": [
    {
     "name": "stdout",
     "output_type": "stream",
     "text": [
      "Accuracy on test set: 0.832\n"
     ]
    }
   ],
   "source": [
    "from sklearn.metrics import accuracy_score\n",
    "xgb_model.fit(X_train_dense, y_train2)\n",
    "\n",
    "# Make predictions on the test set\n",
    "pred = xgb_model.predict(X_test_dense)\n",
    "\n",
    "# Calculate accuracy on the test set\n",
    "accuracy = accuracy_score(y_test2, pred)\n",
    "\n",
    "# Print the accuracy on the test set\n",
    "print(\"Accuracy on test set:\", accuracy)"
   ]
  },
  {
   "cell_type": "code",
   "execution_count": 86,
   "metadata": {},
   "outputs": [
    {
     "data": {
      "text/plain": [
       "2"
      ]
     },
     "execution_count": 86,
     "metadata": {},
     "output_type": "execute_result"
    }
   ],
   "source": [
    "pred[0]"
   ]
  },
  {
   "cell_type": "code",
   "execution_count": 87,
   "metadata": {},
   "outputs": [
    {
     "data": {
      "text/plain": [
       "'Debt collection'"
      ]
     },
     "execution_count": 87,
     "metadata": {},
     "output_type": "execute_result"
    }
   ],
   "source": [
    "pred=encoder.inverse_transform(pred)\n",
    "pred[0]"
   ]
  },
  {
   "cell_type": "code",
   "execution_count": 88,
   "metadata": {},
   "outputs": [
    {
     "name": "stdout",
     "output_type": "stream",
     "text": [
      "Mean Accuracy: 0.8480000000000001\n"
     ]
    }
   ],
   "source": [
    "rf_model  = RandomForestClassifier(n_estimators=200, random_state=42, n_jobs = -1)\n",
    "scores1 = cross_val_score(rf_model,\n",
    "                         X_train_dense,\n",
    "                         y_train2,\n",
    "                         cv=5,\n",
    "                         n_jobs = -1,\n",
    "                         scoring = 'accuracy')\n",
    "scores1.mean()\n",
    "# Calculate the mean accuracy\n",
    "mean_accuracy2 = np.mean(scores1)\n",
    "\n",
    "# Print the mean accuracy\n",
    "print(\"Mean Accuracy:\", mean_accuracy2)"
   ]
  },
  {
   "cell_type": "code",
   "execution_count": 89,
   "metadata": {},
   "outputs": [
    {
     "name": "stdout",
     "output_type": "stream",
     "text": [
      "Accuracy on test set: 0.8453333333333334\n"
     ]
    }
   ],
   "source": [
    "rf_model.fit(X_train_dense, y_train2)\n",
    "pred1=rf_model.predict(X_test_dense)\n",
    "accuracy2 = accuracy_score(y_test2, pred1)\n",
    "print(\"Accuracy on test set:\", accuracy2)"
   ]
  },
  {
   "cell_type": "code",
   "execution_count": 90,
   "metadata": {},
   "outputs": [
    {
     "data": {
      "text/plain": [
       "2"
      ]
     },
     "execution_count": 90,
     "metadata": {},
     "output_type": "execute_result"
    }
   ],
   "source": [
    "pred1[0]"
   ]
  },
  {
   "cell_type": "code",
   "execution_count": 91,
   "metadata": {},
   "outputs": [
    {
     "data": {
      "text/plain": [
       "'Debt collection'"
      ]
     },
     "execution_count": 91,
     "metadata": {},
     "output_type": "execute_result"
    }
   ],
   "source": [
    "pred1=encoder.inverse_transform(pred1)\n",
    "pred1[0]"
   ]
  },
  {
   "cell_type": "code",
   "execution_count": 92,
   "metadata": {},
   "outputs": [
    {
     "data": {
      "text/html": [
       "<div>\n",
       "<style scoped>\n",
       "    .dataframe tbody tr th:only-of-type {\n",
       "        vertical-align: middle;\n",
       "    }\n",
       "\n",
       "    .dataframe tbody tr th {\n",
       "        vertical-align: top;\n",
       "    }\n",
       "\n",
       "    .dataframe thead th {\n",
       "        text-align: right;\n",
       "    }\n",
       "</style>\n",
       "<table border=\"1\" class=\"dataframe\">\n",
       "  <thead>\n",
       "    <tr style=\"text-align: right;\">\n",
       "      <th></th>\n",
       "      <th>Complaint</th>\n",
       "      <th>Actual Product</th>\n",
       "      <th>Prediction</th>\n",
       "      <th>Correct</th>\n",
       "    </tr>\n",
       "  </thead>\n",
       "  <tbody>\n",
       "    <tr>\n",
       "      <th>662362</th>\n",
       "      <td>I reviewed my recent credit report and upon ch...</td>\n",
       "      <td>Debt collection</td>\n",
       "      <td>Debt collection</td>\n",
       "      <td>1</td>\n",
       "    </tr>\n",
       "    <tr>\n",
       "      <th>2849369</th>\n",
       "      <td>When I reviewed my credit report, I discovered...</td>\n",
       "      <td>Credit reporting, repair, or other</td>\n",
       "      <td>Credit reporting, repair, or other</td>\n",
       "      <td>1</td>\n",
       "    </tr>\n",
       "    <tr>\n",
       "      <th>394395</th>\n",
       "      <td>On ( XX/XX/2022 ) I sent a letter regarding in...</td>\n",
       "      <td>Credit reporting, repair, or other</td>\n",
       "      <td>Credit reporting, repair, or other</td>\n",
       "      <td>1</td>\n",
       "    </tr>\n",
       "    <tr>\n",
       "      <th>712801</th>\n",
       "      <td>Upon reviewing of my records, I am upset on wh...</td>\n",
       "      <td>Credit reporting, repair, or other</td>\n",
       "      <td>Credit reporting, repair, or other</td>\n",
       "      <td>1</td>\n",
       "    </tr>\n",
       "    <tr>\n",
       "      <th>3428451</th>\n",
       "      <td>It appears that my credit file has been compro...</td>\n",
       "      <td>Credit reporting, repair, or other</td>\n",
       "      <td>Credit reporting, repair, or other</td>\n",
       "      <td>1</td>\n",
       "    </tr>\n",
       "    <tr>\n",
       "      <th>...</th>\n",
       "      <td>...</td>\n",
       "      <td>...</td>\n",
       "      <td>...</td>\n",
       "      <td>...</td>\n",
       "    </tr>\n",
       "    <tr>\n",
       "      <th>579590</th>\n",
       "      <td>Security Credit Service Orginal creditor : XXX...</td>\n",
       "      <td>Debt collection</td>\n",
       "      <td>Debt collection</td>\n",
       "      <td>1</td>\n",
       "    </tr>\n",
       "    <tr>\n",
       "      <th>3790017</th>\n",
       "      <td>To Whom this may concern, I am not responsible...</td>\n",
       "      <td>Credit reporting, repair, or other</td>\n",
       "      <td>Credit reporting, repair, or other</td>\n",
       "      <td>1</td>\n",
       "    </tr>\n",
       "    <tr>\n",
       "      <th>2116501</th>\n",
       "      <td>I have disputed this same issue in XX/XX/2022....</td>\n",
       "      <td>Debt collection</td>\n",
       "      <td>Debt collection</td>\n",
       "      <td>1</td>\n",
       "    </tr>\n",
       "    <tr>\n",
       "      <th>695564</th>\n",
       "      <td>Some info is displayed more than once, same ac...</td>\n",
       "      <td>Credit reporting, repair, or other</td>\n",
       "      <td>Credit reporting, repair, or other</td>\n",
       "      <td>1</td>\n",
       "    </tr>\n",
       "    <tr>\n",
       "      <th>260663</th>\n",
       "      <td>I have a huge concern and I believe your agenc...</td>\n",
       "      <td>Mortgage</td>\n",
       "      <td>Mortgage</td>\n",
       "      <td>1</td>\n",
       "    </tr>\n",
       "  </tbody>\n",
       "</table>\n",
       "<p>375 rows × 4 columns</p>\n",
       "</div>"
      ],
      "text/plain": [
       "                                                 Complaint  \\\n",
       "662362   I reviewed my recent credit report and upon ch...   \n",
       "2849369  When I reviewed my credit report, I discovered...   \n",
       "394395   On ( XX/XX/2022 ) I sent a letter regarding in...   \n",
       "712801   Upon reviewing of my records, I am upset on wh...   \n",
       "3428451  It appears that my credit file has been compro...   \n",
       "...                                                    ...   \n",
       "579590   Security Credit Service Orginal creditor : XXX...   \n",
       "3790017  To Whom this may concern, I am not responsible...   \n",
       "2116501  I have disputed this same issue in XX/XX/2022....   \n",
       "695564   Some info is displayed more than once, same ac...   \n",
       "260663   I have a huge concern and I believe your agenc...   \n",
       "\n",
       "                             Actual Product  \\\n",
       "662362                      Debt collection   \n",
       "2849369  Credit reporting, repair, or other   \n",
       "394395   Credit reporting, repair, or other   \n",
       "712801   Credit reporting, repair, or other   \n",
       "3428451  Credit reporting, repair, or other   \n",
       "...                                     ...   \n",
       "579590                      Debt collection   \n",
       "3790017  Credit reporting, repair, or other   \n",
       "2116501                     Debt collection   \n",
       "695564   Credit reporting, repair, or other   \n",
       "260663                             Mortgage   \n",
       "\n",
       "                                 Prediction  Correct  \n",
       "662362                      Debt collection        1  \n",
       "2849369  Credit reporting, repair, or other        1  \n",
       "394395   Credit reporting, repair, or other        1  \n",
       "712801   Credit reporting, repair, or other        1  \n",
       "3428451  Credit reporting, repair, or other        1  \n",
       "...                                     ...      ...  \n",
       "579590                      Debt collection        1  \n",
       "3790017  Credit reporting, repair, or other        1  \n",
       "2116501                     Debt collection        1  \n",
       "695564   Credit reporting, repair, or other        1  \n",
       "260663                             Mortgage        1  \n",
       "\n",
       "[375 rows x 4 columns]"
      ]
     },
     "metadata": {},
     "output_type": "display_data"
    },
    {
     "name": "stdout",
     "output_type": "stream",
     "text": [
      "Accuracy: 83.2 %\n"
     ]
    }
   ],
   "source": [
    "new_data = pd.DataFrame(columns=['Complaint','Actual Product','Prediction'])\n",
    "new_data['Complaint']      = X_test\n",
    "new_data['Actual Product'] = y_test\n",
    "new_data['Prediction']     = pred\n",
    "new_data['Correct'] = (new_data['Actual Product'] == new_data['Prediction']).astype('int')\n",
    "display(new_data)\n",
    "print(f'Accuracy: {100*new_data.Correct.sum()/new_data.Correct.count()} %')"
   ]
  },
  {
   "cell_type": "code",
   "execution_count": null,
   "metadata": {},
   "outputs": [],
   "source": []
  },
  {
   "cell_type": "code",
   "execution_count": 93,
   "metadata": {},
   "outputs": [
    {
     "data": {
      "image/png": "[encoded data removed]",
      "text/plain": [
       "<Figure size 640x480 with 1 Axes>"
      ]
     },
     "metadata": {},
     "output_type": "display_data"
    }
   ],
   "source": [
    "import matplotlib.pyplot as plt\n",
    "import seaborn as sns\n",
    "\n",
    "# Create a scatter plot for 'Actual Price'\n",
    "plt.scatter(range(len(y_test)), y_test, label='Actual Price', alpha=0.5)\n",
    "\n",
    "# Create a scatter plot for 'Predicted Price'\n",
    "plt.scatter(range(len(pred)), pred, label='Predicted Price', alpha=0.5)\n",
    "\n",
    "plt.xlabel('complain of product')\n",
    "plt.ylabel('Frequency of Product')\n",
    "plt.title('Scatter Plot of Actual Price and Predicted Price')\n",
    "plt.legend()\n",
    "plt.show()"
   ]
  },
  {
   "cell_type": "code",
   "execution_count": 94,
   "metadata": {},
   "outputs": [
    {
     "data": {
      "image/png": "[encoded data removed]",
      "text/plain": [
       "<Figure size 640x480 with 1 Axes>"
      ]
     },
     "metadata": {},
     "output_type": "display_data"
    }
   ],
   "source": [
    "plt.scatter(range(len(y_test)), y_test, label='Actual Price', alpha=0.5)\n",
    "\n",
    "# Create a scatter plot for 'Predicted Price'\n",
    "plt.scatter(range(len(pred)), pred1, label='Predicted Price', alpha=0.5)\n",
    "\n",
    "plt.xlabel('complain of product')\n",
    "plt.ylabel('Frequency of Product')\n",
    "plt.title('Scatter Plot of Actual Price and Predicted Price')\n",
    "plt.legend()\n",
    "plt.show()"
   ]
  },
  {
   "cell_type": "code",
   "execution_count": 95,
   "metadata": {},
   "outputs": [],
   "source": [
    "# so we can tell from above XGBoost is performing batter"
   ]
  },
  {
   "cell_type": "code",
   "execution_count": null,
   "metadata": {},
   "outputs": [],
   "source": []
  },
  {
   "cell_type": "code",
   "execution_count": 96,
   "metadata": {},
   "outputs": [
    {
     "data": {
      "image/png": "[encoded data removed]",
      "text/plain": [
       "<Figure size 1200x1200 with 1 Axes>"
      ]
     },
     "metadata": {},
     "output_type": "display_data"
    }
   ],
   "source": [
    "cm = confusion_matrix(y_test, pred, labels=encoder.classes_)\n",
    "\n",
    "# Create a function to plot the confusion matrix\n",
    "def plot_confusion_matrix(cm, labels, size=35, rotate_labels=False):\n",
    "    font_specs = {'fontsize': size}\n",
    "    fig, ax = plt.subplots(figsize=(size, size), facecolor='#ebebeb', frameon=True, edgecolor='black')\n",
    "    ax = sns.heatmap(cm, annot=True, cbar=False, cmap='Blues', linewidths=5,\n",
    "                     linecolor='#ebebeb', annot_kws=font_specs, fmt='g')\n",
    "    if rotate_labels:\n",
    "        plt.xticks(np.arange(len(labels)) + 0.5, labels, rotation=45)\n",
    "        plt.yticks(np.arange(len(labels)) + 0.5, labels, rotation=0)\n",
    "    else:\n",
    "        plt.xticks(fontsize=size)\n",
    "        plt.yticks(fontsize=size)\n",
    "    plt.xlabel('Predicted', fontdict=font_specs, labelpad=-(size * 85))\n",
    "    plt.ylabel('Actual', fontdict=font_specs, labelpad=25)\n",
    "\n",
    "# Plot the confusion matrix using the 'viridis' colormap\n",
    "plot_confusion_matrix(cm=cm, labels=encoder.classes_, size=12, rotate_labels=True)\n",
    "\n",
    "plt.show()"
   ]
  },
  {
   "cell_type": "code",
   "execution_count": null,
   "metadata": {},
   "outputs": [],
   "source": []
  },
  {
   "cell_type": "code",
   "execution_count": null,
   "metadata": {},
   "outputs": [],
   "source": []
  },
  {
   "cell_type": "code",
   "execution_count": null,
   "metadata": {},
   "outputs": [],
   "source": []
  },
  {
   "cell_type": "code",
   "execution_count": null,
   "metadata": {},
   "outputs": [],
   "source": []
  }
 ],
 "metadata": {
  "kernelspec": {
   "display_name": "Python 3 (ipykernel)",
   "language": "python",
   "name": "python3"
  },
  "language_info": {
   "codemirror_mode": {
    "name": "ipython",
    "version": 3
   },
   "file_extension": ".py",
   "mimetype": "text/x-python",
   "name": "python",
   "nbconvert_exporter": "python",
   "pygments_lexer": "ipython3",
   "version": "3.11.4"
  }
 },
 "nbformat": 4,
 "nbformat_minor": 2
}
